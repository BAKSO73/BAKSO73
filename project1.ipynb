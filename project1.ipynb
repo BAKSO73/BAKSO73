{
 "cells": [
  {
   "cell_type": "code",
   "execution_count": 1,
   "id": "91875b8b",
   "metadata": {
    "_cell_guid": "b1076dfc-b9ad-4769-8c92-a6c4dae69d19",
    "_uuid": "8f2839f25d086af736a60e9eeb907d3b93b6e0e5",
    "execution": {
     "iopub.execute_input": "2022-10-17T15:36:47.169501Z",
     "iopub.status.busy": "2022-10-17T15:36:47.169028Z",
     "iopub.status.idle": "2022-10-17T15:36:47.180591Z",
     "shell.execute_reply": "2022-10-17T15:36:47.179709Z"
    },
    "papermill": {
     "duration": 0.018961,
     "end_time": "2022-10-17T15:36:47.182928",
     "exception": false,
     "start_time": "2022-10-17T15:36:47.163967",
     "status": "completed"
    },
    "tags": []
   },
   "outputs": [],
   "source": [
    "# This Python 3 environment comes with many helpful analytics libraries installed\n",
    "# It is defined by the kaggle/python Docker image: https://github.com/kaggle/docker-python\n",
    "# For example, here's several helpful packages to load\n",
    "\n",
    "import numpy as np # linear algebra\n",
    "import pandas as pd # data processing, CSV file I/O (e.g. pd.read_csv)\n",
    "\n",
    "# Input data files are available in the read-only \"../input/\" directory\n",
    "# For example, running this (by clicking run or pressing Shift+Enter) will list all files under the input directory\n",
    "\n",
    "import os\n",
    "for dirname, _, filenames in os.walk('/kaggle/input'):\n",
    "    for filename in filenames:\n",
    "        print(os.path.join(dirname, filename))\n",
    "\n",
    "# You can write up to 20GB to the current directory (/kaggle/working/) that gets preserved as output when you create a version using \"Save & Run All\" \n",
    "# You can also write temporary files to /kaggle/temp/, but they won't be saved outside of the current session"
   ]
  },
  {
   "cell_type": "markdown",
   "id": "2c4876e1",
   "metadata": {
    "papermill": {
     "duration": 0.0017,
     "end_time": "2022-10-17T15:36:47.187035",
     "exception": false,
     "start_time": "2022-10-17T15:36:47.185335",
     "status": "completed"
    },
    "tags": []
   },
   "source": [
    "# Exploring dataset"
   ]
  },
  {
   "cell_type": "code",
   "execution_count": 2,
   "id": "5f5a7878",
   "metadata": {
    "execution": {
     "iopub.execute_input": "2022-10-17T15:36:47.193602Z",
     "iopub.status.busy": "2022-10-17T15:36:47.192607Z",
     "iopub.status.idle": "2022-10-17T15:36:47.198476Z",
     "shell.execute_reply": "2022-10-17T15:36:47.197189Z"
    },
    "papermill": {
     "duration": 0.011692,
     "end_time": "2022-10-17T15:36:47.201014",
     "exception": false,
     "start_time": "2022-10-17T15:36:47.189322",
     "status": "completed"
    },
    "tags": []
   },
   "outputs": [],
   "source": [
    "import numpy as np"
   ]
  },
  {
   "cell_type": "markdown",
   "id": "db77cdf5",
   "metadata": {
    "papermill": {
     "duration": 0.001784,
     "end_time": "2022-10-17T15:36:47.205044",
     "exception": false,
     "start_time": "2022-10-17T15:36:47.203260",
     "status": "completed"
    },
    "tags": []
   },
   "source": []
  },
  {
   "cell_type": "markdown",
   "id": "e52f5af8",
   "metadata": {
    "papermill": {
     "duration": 0.00172,
     "end_time": "2022-10-17T15:36:47.208794",
     "exception": false,
     "start_time": "2022-10-17T15:36:47.207074",
     "status": "completed"
    },
    "tags": []
   },
   "source": []
  }
 ],
 "metadata": {
  "kernelspec": {
   "display_name": "Python 3",
   "language": "python",
   "name": "python3"
  },
  "language_info": {
   "codemirror_mode": {
    "name": "ipython",
    "version": 3
   },
   "file_extension": ".py",
   "mimetype": "text/x-python",
   "name": "python",
   "nbconvert_exporter": "python",
   "pygments_lexer": "ipython3",
   "version": "3.7.12"
  },
  "papermill": {
   "default_parameters": {},
   "duration": 10.342687,
   "end_time": "2022-10-17T15:36:47.932689",
   "environment_variables": {},
   "exception": null,
   "input_path": "__notebook__.ipynb",
   "output_path": "__notebook__.ipynb",
   "parameters": {},
   "start_time": "2022-10-17T15:36:37.590002",
   "version": "2.3.4"
  }
 },
 "nbformat": 4,
 "nbformat_minor": 5
}
