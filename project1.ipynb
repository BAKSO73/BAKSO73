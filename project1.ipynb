{
 "cells": [
  {
   "cell_type": "code",
   "execution_count": 1,
   "id": "812fc866",
   "metadata": {
    "_cell_guid": "b1076dfc-b9ad-4769-8c92-a6c4dae69d19",
    "_uuid": "8f2839f25d086af736a60e9eeb907d3b93b6e0e5",
    "execution": {
     "iopub.execute_input": "2022-10-17T15:23:48.658112Z",
     "iopub.status.busy": "2022-10-17T15:23:48.656977Z",
     "iopub.status.idle": "2022-10-17T15:23:48.671613Z",
     "shell.execute_reply": "2022-10-17T15:23:48.670646Z"
    },
    "papermill": {
     "duration": 0.02178,
     "end_time": "2022-10-17T15:23:48.674136",
     "exception": false,
     "start_time": "2022-10-17T15:23:48.652356",
     "status": "completed"
    },
    "tags": []
   },
   "outputs": [],
   "source": [
    "# This Python 3 environment comes with many helpful analytics libraries installed\n",
    "# It is defined by the kaggle/python Docker image: https://github.com/kaggle/docker-python\n",
    "# For example, here's several helpful packages to load\n",
    "\n",
    "import numpy as np # linear algebra\n",
    "import pandas as pd # data processing, CSV file I/O (e.g. pd.read_csv)\n",
    "\n",
    "# Input data files are available in the read-only \"../input/\" directory\n",
    "# For example, running this (by clicking run or pressing Shift+Enter) will list all files under the input directory\n",
    "\n",
    "import os\n",
    "for dirname, _, filenames in os.walk('/kaggle/input'):\n",
    "    for filename in filenames:\n",
    "        print(os.path.join(dirname, filename))\n",
    "\n",
    "# You can write up to 20GB to the current directory (/kaggle/working/) that gets preserved as output when you create a version using \"Save & Run All\" \n",
    "# You can also write temporary files to /kaggle/temp/, but they won't be saved outside of the current session"
   ]
  },
  {
   "cell_type": "markdown",
   "id": "c1175132",
   "metadata": {
    "papermill": {
     "duration": 0.001785,
     "end_time": "2022-10-17T15:23:48.678200",
     "exception": false,
     "start_time": "2022-10-17T15:23:48.676415",
     "status": "completed"
    },
    "tags": []
   },
   "source": [
    "# Exploring dataset"
   ]
  },
  {
   "cell_type": "code",
   "execution_count": 2,
   "id": "10902128",
   "metadata": {
    "execution": {
     "iopub.execute_input": "2022-10-17T15:23:48.683713Z",
     "iopub.status.busy": "2022-10-17T15:23:48.683001Z",
     "iopub.status.idle": "2022-10-17T15:23:48.688443Z",
     "shell.execute_reply": "2022-10-17T15:23:48.687119Z"
    },
    "papermill": {
     "duration": 0.010679,
     "end_time": "2022-10-17T15:23:48.690700",
     "exception": false,
     "start_time": "2022-10-17T15:23:48.680021",
     "status": "completed"
    },
    "tags": []
   },
   "outputs": [],
   "source": [
    "import numpy as np"
   ]
  },
  {
   "cell_type": "markdown",
   "id": "c4847a14",
   "metadata": {
    "papermill": {
     "duration": 0.00173,
     "end_time": "2022-10-17T15:23:48.694484",
     "exception": false,
     "start_time": "2022-10-17T15:23:48.692754",
     "status": "completed"
    },
    "tags": []
   },
   "source": []
  },
  {
   "cell_type": "markdown",
   "id": "892edb31",
   "metadata": {
    "papermill": {
     "duration": 0.00165,
     "end_time": "2022-10-17T15:23:48.698045",
     "exception": false,
     "start_time": "2022-10-17T15:23:48.696395",
     "status": "completed"
    },
    "tags": []
   },
   "source": []
  }
 ],
 "metadata": {
  "kernelspec": {
   "display_name": "Python 3",
   "language": "python",
   "name": "python3"
  },
  "language_info": {
   "codemirror_mode": {
    "name": "ipython",
    "version": 3
   },
   "file_extension": ".py",
   "mimetype": "text/x-python",
   "name": "python",
   "nbconvert_exporter": "python",
   "pygments_lexer": "ipython3",
   "version": "3.7.12"
  },
  "papermill": {
   "default_parameters": {},
   "duration": 9.452747,
   "end_time": "2022-10-17T15:23:49.321013",
   "environment_variables": {},
   "exception": null,
   "input_path": "__notebook__.ipynb",
   "output_path": "__notebook__.ipynb",
   "parameters": {},
   "start_time": "2022-10-17T15:23:39.868266",
   "version": "2.3.4"
  }
 },
 "nbformat": 4,
 "nbformat_minor": 5
}
